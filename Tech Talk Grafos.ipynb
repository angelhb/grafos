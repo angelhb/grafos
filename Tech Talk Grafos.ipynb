{
 "cells": [
  {
   "cell_type": "markdown",
   "id": "1b58d790",
   "metadata": {},
   "source": [
    "# NetworkX\n",
    "\n",
    "**INDICE**\n",
    "1. Introduccion\n",
    "2. Documentacion\n",
    "3. Un nodo\n",
    "4. Enlaces entre nodos\n",
    "5. Eliminación de grafos\n",
    "6. El grafo más simple\n",
    "7. Grafos con pesos\n",
    "8. Dirección de los enlaces\n",
    "    - Grafos no dirigidos\n",
    "    - Grafos dirigidos\n",
    "9. Métricas de influencia y conectividad\n",
    "    - Exploración del grafo\n",
    "    - Grados\n",
    "    - Centralidad\n",
    "    - Influencia\n",
    "    - Detección de comunidades\n",
    "10. Dibujo de grafos\n",
    "11. Otras acciones contra nodos\n",
    "    - Ejemplo grid cuadrado\n",
    "12. Camino de peso mínimo: algoritmo de Dijkstra\n",
    "\n",
    "## Introducción\n",
    "\n",
    "NetworkX es una librería de Python enfocada en la teoría de grafos. \n",
    "\n",
    "Esta herramienta nos posibilitará trabajar con grafos sin necesidad de definir nuestras propias estructuras.\n",
    "\n",
    "Empecemos a jugar con lo más básico. Importamos la librería NetworkX para utilizar sus funciones y clases en el código y asignamos al alias *nx*."
   ]
  },
  {
   "cell_type": "code",
   "execution_count": 5,
   "id": "e9d2d3ce",
   "metadata": {},
   "outputs": [],
   "source": [
    "# En caso de no tener instalada la librería ejecutar el siguiente código comentado (descomentar primero):\n",
    "#!pip install networkx\n",
    "\n",
    "import networkx as nx\n",
    "\n",
    "import numpy as np\n",
    "import pandas as pd\n",
    "import matplotlib.pyplot as plt\n",
    "\n",
    "%matplotlib inline\n",
    "\n",
    "import warnings\n",
    "warnings.filterwarnings('ignore')"
   ]
  },
  {
   "cell_type": "markdown",
   "id": "41d03737",
   "metadata": {},
   "source": [
    "Podemos crear un grafo de diferentes maneras. NetworkX incluye diferentes funciones para generar grafos. Para empezar vamos a ver una serie de manipulaciones simples.\n",
    "\n",
    "Pero antes, un pequeño recordatorio.\n",
    "\n",
    "## Documentación\n",
    "\n",
    "En el siguiente enlace podemos encontrar la documentación completa de la librería NetworkX. En todo momento se recomienda trabajar con la documentación a mano. \n",
    "\n",
    "https://networkx.org/documentation/stable/reference/introduction.html\n",
    "\n",
    "Ahora sí, vayamos de lleno a la materia..."
   ]
  },
  {
   "cell_type": "markdown",
   "id": "99e1c2df",
   "metadata": {},
   "source": [
    "## Un nodo\n",
    "\n",
    "La creación de nodos es muy sencilla, podemos añadir nodos uno a uno o una lista de nodos."
   ]
  },
  {
   "cell_type": "code",
   "execution_count": 6,
   "id": "812bcd0f",
   "metadata": {},
   "outputs": [
    {
     "data": {
      "text/plain": [
       "<networkx.classes.graph.Graph at 0x1c1e5a04b20>"
      ]
     },
     "execution_count": 6,
     "metadata": {},
     "output_type": "execute_result"
    }
   ],
   "source": [
    "G = nx.Graph()\n",
    "G.add_node(1)\n",
    "G"
   ]
  },
  {
   "cell_type": "markdown",
   "id": "4e00b190",
   "metadata": {},
   "source": [
    "Esta acción construye, como podemos observar, un objeto de la clase Graph de networkx.\n",
    "\n",
    "Podemos añadir nodos en lote como listas."
   ]
  },
  {
   "cell_type": "code",
   "execution_count": 7,
   "id": "f93be982",
   "metadata": {},
   "outputs": [],
   "source": [
    "G.add_nodes_from([2, 3])"
   ]
  },
  {
   "cell_type": "markdown",
   "id": "b0990282",
   "metadata": {},
   "source": [
    "La función `spring_layout` determina la posición de los nodos. En este caso particular, empleando el algoritmo de Fruchterman-Reingold.\n",
    "\n",
    "El algoritmo utiliza un proceso iterativo para ajustar la colocación de los vértices con el fin de minimizar la \"energía\" del sistema. Al tratarse de un trazado iterativo, se ejecuta muchas veces, cambiando cada vez de forma incremental la posición de cada vértice en función de la posición anterior.\n",
    "\n",
    "Documentación: \n",
    "\n",
    "1. NetworkX - https://networkx.org/documentation/stable/reference/generated/networkx.drawing.layout.spring_layout.html\n",
    "2. Teoría - https://www.sciencedirect.com/topics/computer-science/reingold-layout"
   ]
  },
  {
   "cell_type": "code",
   "execution_count": 8,
   "id": "b79a9e0a",
   "metadata": {},
   "outputs": [
    {
     "ename": "NetworkXError",
     "evalue": "random_state_index is incorrect",
     "output_type": "error",
     "traceback": [
      "\u001b[1;31m---------------------------------------------------------------------------\u001b[0m",
      "\u001b[1;31mIndexError\u001b[0m                                Traceback (most recent call last)",
      "\u001b[1;32mC:\\APS\\Anaconda\\lib\\site-packages\\networkx\\utils\\decorators.py\u001b[0m in \u001b[0;36m_random_state\u001b[1;34m(func, *args, **kwargs)\u001b[0m\n\u001b[0;32m    395\u001b[0m         \u001b[1;32mtry\u001b[0m\u001b[1;33m:\u001b[0m\u001b[1;33m\u001b[0m\u001b[1;33m\u001b[0m\u001b[0m\n\u001b[1;32m--> 396\u001b[1;33m             \u001b[0mrandom_state_arg\u001b[0m \u001b[1;33m=\u001b[0m \u001b[0margs\u001b[0m\u001b[1;33m[\u001b[0m\u001b[0mrandom_state_index\u001b[0m\u001b[1;33m]\u001b[0m\u001b[1;33m\u001b[0m\u001b[1;33m\u001b[0m\u001b[0m\n\u001b[0m\u001b[0;32m    397\u001b[0m         \u001b[1;32mexcept\u001b[0m \u001b[0mTypeError\u001b[0m \u001b[1;32mas\u001b[0m \u001b[0me\u001b[0m\u001b[1;33m:\u001b[0m\u001b[1;33m\u001b[0m\u001b[1;33m\u001b[0m\u001b[0m\n",
      "\u001b[1;31mIndexError\u001b[0m: tuple index out of range",
      "\nThe above exception was the direct cause of the following exception:\n",
      "\u001b[1;31mNetworkXError\u001b[0m                             Traceback (most recent call last)",
      "\u001b[1;32m<ipython-input-8-2fe4436ececa>\u001b[0m in \u001b[0;36m<module>\u001b[1;34m\u001b[0m\n\u001b[1;32m----> 1\u001b[1;33m \u001b[0mpos\u001b[0m \u001b[1;33m=\u001b[0m \u001b[0mnx\u001b[0m\u001b[1;33m.\u001b[0m\u001b[0mspring_layout\u001b[0m\u001b[1;33m(\u001b[0m\u001b[0mG\u001b[0m\u001b[1;33m)\u001b[0m\u001b[1;33m\u001b[0m\u001b[1;33m\u001b[0m\u001b[0m\n\u001b[0m\u001b[0;32m      2\u001b[0m \u001b[1;33m\u001b[0m\u001b[0m\n\u001b[0;32m      3\u001b[0m \u001b[0mnx\u001b[0m\u001b[1;33m.\u001b[0m\u001b[0mdraw\u001b[0m\u001b[1;33m(\u001b[0m\u001b[0mG\u001b[0m\u001b[1;33m,\u001b[0m \u001b[0mcmap\u001b[0m\u001b[1;33m=\u001b[0m\u001b[0mplt\u001b[0m\u001b[1;33m.\u001b[0m\u001b[0mget_cmap\u001b[0m\u001b[1;33m(\u001b[0m\u001b[1;34m'rainbow'\u001b[0m\u001b[1;33m)\u001b[0m\u001b[1;33m,\u001b[0m \u001b[0mwith_labels\u001b[0m\u001b[1;33m=\u001b[0m\u001b[1;32mTrue\u001b[0m\u001b[1;33m,\u001b[0m \u001b[0mpos\u001b[0m\u001b[1;33m=\u001b[0m\u001b[0mpos\u001b[0m\u001b[1;33m)\u001b[0m\u001b[1;33m\u001b[0m\u001b[1;33m\u001b[0m\u001b[0m\n",
      "\u001b[1;32mC:\\APS\\Anaconda\\lib\\site-packages\\decorator.py\u001b[0m in \u001b[0;36mfun\u001b[1;34m(*args, **kw)\u001b[0m\n\u001b[0;32m    229\u001b[0m             \u001b[1;32mif\u001b[0m \u001b[1;32mnot\u001b[0m \u001b[0mkwsyntax\u001b[0m\u001b[1;33m:\u001b[0m\u001b[1;33m\u001b[0m\u001b[1;33m\u001b[0m\u001b[0m\n\u001b[0;32m    230\u001b[0m                 \u001b[0margs\u001b[0m\u001b[1;33m,\u001b[0m \u001b[0mkw\u001b[0m \u001b[1;33m=\u001b[0m \u001b[0mfix\u001b[0m\u001b[1;33m(\u001b[0m\u001b[0margs\u001b[0m\u001b[1;33m,\u001b[0m \u001b[0mkw\u001b[0m\u001b[1;33m,\u001b[0m \u001b[0msig\u001b[0m\u001b[1;33m)\u001b[0m\u001b[1;33m\u001b[0m\u001b[1;33m\u001b[0m\u001b[0m\n\u001b[1;32m--> 231\u001b[1;33m             \u001b[1;32mreturn\u001b[0m \u001b[0mcaller\u001b[0m\u001b[1;33m(\u001b[0m\u001b[0mfunc\u001b[0m\u001b[1;33m,\u001b[0m \u001b[1;33m*\u001b[0m\u001b[1;33m(\u001b[0m\u001b[0mextras\u001b[0m \u001b[1;33m+\u001b[0m \u001b[0margs\u001b[0m\u001b[1;33m)\u001b[0m\u001b[1;33m,\u001b[0m \u001b[1;33m**\u001b[0m\u001b[0mkw\u001b[0m\u001b[1;33m)\u001b[0m\u001b[1;33m\u001b[0m\u001b[1;33m\u001b[0m\u001b[0m\n\u001b[0m\u001b[0;32m    232\u001b[0m     \u001b[0mfun\u001b[0m\u001b[1;33m.\u001b[0m\u001b[0m__name__\u001b[0m \u001b[1;33m=\u001b[0m \u001b[0mfunc\u001b[0m\u001b[1;33m.\u001b[0m\u001b[0m__name__\u001b[0m\u001b[1;33m\u001b[0m\u001b[1;33m\u001b[0m\u001b[0m\n\u001b[0;32m    233\u001b[0m     \u001b[0mfun\u001b[0m\u001b[1;33m.\u001b[0m\u001b[0m__doc__\u001b[0m \u001b[1;33m=\u001b[0m \u001b[0mfunc\u001b[0m\u001b[1;33m.\u001b[0m\u001b[0m__doc__\u001b[0m\u001b[1;33m\u001b[0m\u001b[1;33m\u001b[0m\u001b[0m\n",
      "\u001b[1;32mC:\\APS\\Anaconda\\lib\\site-packages\\networkx\\utils\\decorators.py\u001b[0m in \u001b[0;36m_random_state\u001b[1;34m(func, *args, **kwargs)\u001b[0m\n\u001b[0;32m    398\u001b[0m             \u001b[1;32mraise\u001b[0m \u001b[0mnx\u001b[0m\u001b[1;33m.\u001b[0m\u001b[0mNetworkXError\u001b[0m\u001b[1;33m(\u001b[0m\u001b[1;34m\"random_state_index must be an integer\"\u001b[0m\u001b[1;33m)\u001b[0m \u001b[1;32mfrom\u001b[0m \u001b[0me\u001b[0m\u001b[1;33m\u001b[0m\u001b[1;33m\u001b[0m\u001b[0m\n\u001b[0;32m    399\u001b[0m         \u001b[1;32mexcept\u001b[0m \u001b[0mIndexError\u001b[0m \u001b[1;32mas\u001b[0m \u001b[0me\u001b[0m\u001b[1;33m:\u001b[0m\u001b[1;33m\u001b[0m\u001b[1;33m\u001b[0m\u001b[0m\n\u001b[1;32m--> 400\u001b[1;33m             \u001b[1;32mraise\u001b[0m \u001b[0mnx\u001b[0m\u001b[1;33m.\u001b[0m\u001b[0mNetworkXError\u001b[0m\u001b[1;33m(\u001b[0m\u001b[1;34m\"random_state_index is incorrect\"\u001b[0m\u001b[1;33m)\u001b[0m \u001b[1;32mfrom\u001b[0m \u001b[0me\u001b[0m\u001b[1;33m\u001b[0m\u001b[1;33m\u001b[0m\u001b[0m\n\u001b[0m\u001b[0;32m    401\u001b[0m \u001b[1;33m\u001b[0m\u001b[0m\n\u001b[0;32m    402\u001b[0m         \u001b[1;31m# Create a numpy.random.RandomState instance\u001b[0m\u001b[1;33m\u001b[0m\u001b[1;33m\u001b[0m\u001b[1;33m\u001b[0m\u001b[0m\n",
      "\u001b[1;31mNetworkXError\u001b[0m: random_state_index is incorrect"
     ]
    }
   ],
   "source": [
    "pos = nx.spring_layout(G)\n",
    "\n",
    "nx.draw(G, cmap=plt.get_cmap('rainbow'), with_labels=True, pos=pos)"
   ]
  },
  {
   "cell_type": "markdown",
   "id": "3362abfe",
   "metadata": {},
   "source": [
    "## Enlaces entre nodos"
   ]
  },
  {
   "cell_type": "code",
   "execution_count": null,
   "id": "993b091f",
   "metadata": {},
   "outputs": [],
   "source": []
  },
  {
   "cell_type": "code",
   "execution_count": null,
   "id": "a83bf396",
   "metadata": {},
   "outputs": [],
   "source": [
    "G.add_edge(1, 2)\n",
    "G.add_edge(2, 3)\n",
    "G.add_edge(1, 3)\n",
    "\n",
    "pos = nx.spring_layout(G)\n",
    "nx.draw(G, cmap=plt.get_cmap('rainbow'), with_labels=True, pos=pos)"
   ]
  },
  {
   "cell_type": "markdown",
   "id": "e1751b13",
   "metadata": {},
   "source": [
    "## Eliminación de grafo y creación de uno nuevo\n",
    "\n",
    "Podemos borrar el grafo y generar uno nuevo"
   ]
  },
  {
   "cell_type": "code",
   "execution_count": null,
   "id": "8f91d939",
   "metadata": {},
   "outputs": [],
   "source": [
    "G.clear()\n",
    "\n",
    "nx.draw(G, cmap = plt.get_cmap('rainbow'), with_labels=True)"
   ]
  },
  {
   "cell_type": "markdown",
   "id": "d4f4a351",
   "metadata": {},
   "source": [
    "## El grafo más simple\n",
    "\n",
    "Este código utiliza NetworkX para crear un grafo y realizar algunas operaciones básicas en él."
   ]
  },
  {
   "cell_type": "code",
   "execution_count": null,
   "id": "84ea160d",
   "metadata": {},
   "outputs": [],
   "source": [
    "G = nx.Graph()\n",
    "G.add_edges_from([(1,2),(2,3),(3,4),(4,1),(2,4)])"
   ]
  },
  {
   "cell_type": "markdown",
   "id": "4d10802d",
   "metadata": {},
   "source": [
    "El grafo que hemos creado sigue la estructura del siguiente croquis."
   ]
  },
  {
   "attachments": {
    "croquis_primer_grafo.png": {
     "image/png": "[encoded data removed]"
    }
   },
   "cell_type": "markdown",
   "id": "7fa978cc",
   "metadata": {},
   "source": [
    "![croquis_primer_grafo.png](attachment:croquis_primer_grafo.png)"
   ]
  },
  {
   "cell_type": "markdown",
   "id": "68cf4641",
   "metadata": {},
   "source": [
    "- `G = nx.Graph()`: Crea un objeto de tipo grafo no dirigido vacío llamado G utilizando la clase Graph de NetworkX.\n",
    "\n",
    "- `G.add_edges_from([(1,2),(2,3),(3,4),(4,1),(2,4)])`: Agrega las aristas al grafo G. En este caso, se agregan las aristas (1,2), (2,3), (3,4), (4,1) y (2,4) al grafo mediante la función `add_edges_from()`. Estas aristas conectan los vértices 1, 2, 3 y 4 en una configuración específica.\n",
    "\n",
    "Imprimamos por pantalla información básica del grafo que acabamos de crear."
   ]
  },
  {
   "cell_type": "code",
   "execution_count": null,
   "id": "f8271096",
   "metadata": {},
   "outputs": [],
   "source": [
    "print(\"Los vértices de G son {}\".format(list(G.nodes)))\n",
    "print(\"Las aristas de G son {}\".format(list(G.edges)))\n",
    "\n",
    "print(\"Los vecinos de 1 en G son {}\".format(list(G.neighbors(1))))\n",
    "print(\"Los vecinos de 4 en G son {}\".format(list(G.neighbors(4))))"
   ]
  },
  {
   "cell_type": "markdown",
   "id": "3a4937b0",
   "metadata": {},
   "source": [
    "Otro modo de crear grafos."
   ]
  },
  {
   "cell_type": "code",
   "execution_count": null,
   "id": "d637443b",
   "metadata": {},
   "outputs": [],
   "source": [
    "G2 = nx.Graph()\n",
    "\n",
    "G2.add_node(1)\n",
    "G2.add_edge(1, 2)\n",
    "G2.add_edges_from([(1, 2), (1, 3)])\n",
    "\n",
    "G2.add_node(\"manuel\")        # añade el nodo Manuel\n",
    "G2.add_nodes_from(\"manuel\")  # añade 4 nodos: m, a, n, u, e y l\n",
    "G2.add_edge(3, 'K')          # añadimos conexión al nodo 3 con el nodo K\n",
    "\n",
    "pos = nx.spring_layout(G2)\n",
    "nx.draw(G2, cmap = plt.get_cmap('rainbow'), with_labels=True, pos = pos)"
   ]
  },
  {
   "cell_type": "markdown",
   "id": "b80c1f2b",
   "metadata": {},
   "source": [
    "Más información de nuestro grafo."
   ]
  },
  {
   "cell_type": "code",
   "execution_count": null,
   "id": "100013ae",
   "metadata": {},
   "outputs": [],
   "source": [
    "print(\"Número de nodos:\", G2.number_of_nodes())\n",
    "print(\"Número de enlaces:\", G2.number_of_edges())"
   ]
  },
  {
   "cell_type": "markdown",
   "id": "2bb473cd",
   "metadata": {},
   "source": [
    "Nodos del grafo."
   ]
  },
  {
   "cell_type": "code",
   "execution_count": null,
   "id": "c33d33ac",
   "metadata": {},
   "outputs": [],
   "source": [
    "list(G2.nodes)"
   ]
  },
  {
   "cell_type": "markdown",
   "id": "0ddc444d",
   "metadata": {},
   "source": [
    "Enlaces del grafo."
   ]
  },
  {
   "cell_type": "code",
   "execution_count": null,
   "id": "ef0a5535",
   "metadata": {},
   "outputs": [],
   "source": [
    "list(G2.edges)"
   ]
  },
  {
   "cell_type": "markdown",
   "id": "d5460ade",
   "metadata": {},
   "source": [
    "Obtención de los vecinos del nodo 1."
   ]
  },
  {
   "cell_type": "code",
   "execution_count": null,
   "id": "9a2ca29b",
   "metadata": {},
   "outputs": [],
   "source": [
    "list(G2.adj[1])"
   ]
  },
  {
   "cell_type": "markdown",
   "id": "3c1a287f",
   "metadata": {},
   "source": [
    "Acceso a información por elemento."
   ]
  },
  {
   "cell_type": "code",
   "execution_count": null,
   "id": "ff2964f8",
   "metadata": {},
   "outputs": [],
   "source": [
    "G2[1]"
   ]
  },
  {
   "cell_type": "markdown",
   "id": "3d051c42",
   "metadata": {},
   "source": [
    "## Grafos con pesos\n",
    "\n",
    "En NetworkX, es posible asignar pesos a las aristas utilizando el método `add_weighted_edges_from`. Para ello, se proporcionan las primeras dos entradas de cada tripleta para representar los vértices y la tercera entrada para indicar el peso. Si deseamos obtener el peso de una arista, podemos considerar el grafo como una matriz y luego acceder al valor correspondiente utilizando la clave `weight` en un diccionario.\n",
    "\n",
    "Si deseamos obtener información completa sobre las aristas, incluyendo sus datos, podemos utilizar el método `edges` y establecer el parámetro `data` como `True`. Esto nos permitirá acceder a todos los detalles de las aristas."
   ]
  },
  {
   "cell_type": "code",
   "execution_count": null,
   "id": "1c498430",
   "metadata": {},
   "outputs": [],
   "source": [
    "W = nx.Graph()\n",
    "W.add_weighted_edges_from([(1,2,1.1),(2,3,1.2),(3,4,1.4),(4,1,0),(2,4,1.6)])\n",
    "\n",
    "print(\"Los vértices de W son {}\".format(list(W.nodes)))\n",
    "print(\"Las aristas de W son {}\".format(list(W.edges)))\n",
    "print(\"El peso de la arista (4,3) es {}\".format(W[4][3]['weight']))\n",
    "print(\"Las aristas de W y sus pesos son {}\".format(list(W.edges(data=True))))"
   ]
  },
  {
   "cell_type": "markdown",
   "id": "4eb1c9c2",
   "metadata": {},
   "source": [
    "Observando la última lista, se aprecia que NetworkX utiliza un **diccionario** para almacenar el peso de las aristas. Este diccionario de datos de las aristas no solo puede contener información sobre el peso, sino también otros datos de carácter más general. De manera similar, los vértices también cuentan con su propio diccionario de datos, donde se puede guardar información extra."
   ]
  },
  {
   "cell_type": "markdown",
   "id": "a27642d0",
   "metadata": {},
   "source": [
    "## Dirección de los enlaces de un grafo\n",
    "\n",
    "Los gráfos pueden ser de dos tipos:\n",
    "\n",
    "- No dirigidos: formado por pares no ordenados.\n",
    "- Dirigidos: formado por pares ordenados."
   ]
  },
  {
   "cell_type": "markdown",
   "id": "840b59f7",
   "metadata": {},
   "source": [
    "### Grafos no dirigidos\n",
    "\n",
    "Vamos a trabajar con uno de los grafos que nos proporciona NetworkX.\n",
    "\n",
    "Este grafo representa la red social de un club de karate, estudiada por Wayne W. Zachary durante un periodo de 3 años de 1970 a 1972. Esta red recoge las relaciones entre 34 miembros del club, documentando la relación entre pares de miembros que interactuaron fuera del club. Durante este estudio hubo un conflicto entre el administrados \"John A\" y el instructor \"Mr. Hi\" (ambos seudónimos), lo que llevó a separar el club en dos. La mitad pasaron a formar parte del club de Mr.Hi, la otra mitad buscaron otro instructor de karate. Basandonos en los datos recogidos por Zachary, este asignó correctamente a todos los miembros excepto a uno, a los nuevos dos clubes."
   ]
  },
  {
   "cell_type": "code",
   "execution_count": null,
   "id": "acd7032d",
   "metadata": {},
   "outputs": [],
   "source": [
    "G_karate = nx.karate_club_graph()"
   ]
  },
  {
   "cell_type": "markdown",
   "id": "14d2e32b",
   "metadata": {},
   "source": [
    "Definimos la posición de los nodos y luego dibujamos el grafo."
   ]
  },
  {
   "cell_type": "code",
   "execution_count": null,
   "id": "056636ca",
   "metadata": {},
   "outputs": [],
   "source": [
    "pos = nx.spring_layout(G_karate)\n",
    "nx.draw(G_karate, cmap=plt.get_cmap('rainbow'), with_labels=True, pos=pos)"
   ]
  },
  {
   "cell_type": "code",
   "execution_count": null,
   "id": "ab0677a1",
   "metadata": {},
   "outputs": [],
   "source": [
    "G_karate.nodes()"
   ]
  },
  {
   "cell_type": "code",
   "execution_count": null,
   "id": "0f79c643",
   "metadata": {},
   "outputs": [],
   "source": [
    "G_karate.edges()"
   ]
  },
  {
   "cell_type": "markdown",
   "id": "47f29840",
   "metadata": {},
   "source": [
    "El grado de un vértice $v$ en un grafo no dirigido es igual al número de aristas incidentes en $v$.\n",
    "\n",
    "Nuestro grafo tiene 34 nodos.\n",
    "\n",
    "Podemos obtener el grado de cada nodo mediante el llamado a la siguiente función:"
   ]
  },
  {
   "cell_type": "code",
   "execution_count": null,
   "id": "c1d49747",
   "metadata": {},
   "outputs": [],
   "source": [
    "G_karate.degree()"
   ]
  },
  {
   "cell_type": "markdown",
   "id": "188c5355",
   "metadata": {},
   "source": [
    "Esta información se puede tratar de forma más limpia si se convierte en una lista de tuplas."
   ]
  },
  {
   "cell_type": "code",
   "execution_count": null,
   "id": "a3109e05",
   "metadata": {},
   "outputs": [],
   "source": [
    "degree_sequence = list(G_karate.degree())\n",
    "degree_sequence"
   ]
  },
  {
   "cell_type": "markdown",
   "id": "e8213175",
   "metadata": {},
   "source": [
    "###  Grafos dirigidos \n",
    "\n",
    "Si deseas trabajar con gráficos dirigidos en NetworkX, debes utilizar un tipo de objeto diferente llamado `DiGraph`. Al emplear este objeto, le indicas a NetworkX que el orden de los vértices en cada arista, lo cual representa visualmente las aristas como flechas en el gráfico. Al utilizar la función `neighbors` en un `DiGraph`, ahora obtendrás únicamente los vértices hacia los cuales hay una flecha desde el vértice dado. Si deseas conocer los vértices desde los cuales hay una flecha hacia un vértice específico, debes utilizar la función `predecessors`. \n",
    "\n",
    "Para comprender mejor este concepto, puedes comparar el siguiente código con el primer ejemplo que vimos anteriormente."
   ]
  },
  {
   "cell_type": "code",
   "execution_count": null,
   "id": "75e98e49",
   "metadata": {},
   "outputs": [],
   "source": [
    "D = nx.DiGraph()\n",
    "D.add_edges_from([(1,2),(2,3),(3,4),(4,1),(2,4)])\n",
    "\n",
    "print(\"En D hay flecha del nodo 1 a los nodos {}\".format(list(D.neighbors(1))))\n",
    "print(\"En D hay flecha del nodo 4 a los nodos {}\".format(list(D.neighbors(4))))\n",
    "\n",
    "print(\"En D hay flecha hacia el nodo 1 desde los nodos {}\".format(list(D.predecessors(1))))\n",
    "print(\"En D hay flecha hacia el nodo 4 desde los nodos {}\".format(list(D.predecessors(4))))"
   ]
  },
  {
   "cell_type": "code",
   "execution_count": null,
   "id": "46ffb035",
   "metadata": {},
   "outputs": [],
   "source": []
  },
  {
   "cell_type": "markdown",
   "id": "52e912d2",
   "metadata": {},
   "source": [
    "## Métricas de influencia y conectividad\n",
    "\n",
    "En este punto vamos a ver de forma pŕactica las métricas estudiadas para analizar la conectividad e influencia en una red.\n",
    "\n",
    "Conjunto de datos: Students.\n",
    "Podemos encontrar el conjunto de datos del notebook en el siguiente link http://vladowiki.fmf.uni-lj.si/doku.php?id=pajek:data:pajek:students\n",
    "\n",
    "Usaremos un conjunto de grafos descritos así:\n",
    "\n",
    ">Había 32 estudiantes (22 mujeres y 10 hombres) en la 4ª clase de Sociología, Ciencias Sociales Informáticas, Facultad de Ciencias Sociales, Liubliana. Los estudiantes se conocen muy bien. Se recogieron varias redes utilizando las siguientes preguntas\n",
    "\n",
    "- as1.net: **Supón que cumples años la semana que viene y organizas una fiesta. ¿A quién te gustaría invitar a la fiesta? Elige tantos estudiantes como desees.**\n",
    "\n",
    "Estos ficheros estan en formato `pajek`. Para esta demo se usa el primer fichero `as1.net`."
   ]
  },
  {
   "cell_type": "code",
   "execution_count": null,
   "id": "466c0555",
   "metadata": {},
   "outputs": [],
   "source": [
    "students_graph = nx.read_pajek(\"as1.net\")"
   ]
  },
  {
   "cell_type": "markdown",
   "id": "e2cd5d5f",
   "metadata": {},
   "source": [
    "### Exploración del grafo\n",
    "\n",
    "Vamos a realizar un análisis exploratorio del dato, de sus nodos, el número de enlaces y una representación visual"
   ]
  },
  {
   "cell_type": "code",
   "execution_count": null,
   "id": "dfdec241",
   "metadata": {},
   "outputs": [],
   "source": [
    "np.array(students_graph.nodes)"
   ]
  },
  {
   "cell_type": "code",
   "execution_count": null,
   "id": "76eca241",
   "metadata": {},
   "outputs": [],
   "source": [
    "len(np.array(students_graph.edges))"
   ]
  },
  {
   "cell_type": "code",
   "execution_count": null,
   "id": "b8225fea",
   "metadata": {},
   "outputs": [],
   "source": [
    "pos = nx.layout.kamada_kawai_layout(students_graph)\n",
    "fig, ax = plt.subplots(1, 1, figsize=(10,10))\n",
    "nx.draw(students_graph,\n",
    "        pos=pos,\n",
    "        with_labels=True, \n",
    "        ax=ax)\n",
    "plt.show()"
   ]
  },
  {
   "cell_type": "markdown",
   "id": "c1466159",
   "metadata": {},
   "source": [
    "### Grados\n",
    "\n",
    "Se conoce como grado de un vértice $v$, en un grafo no dirigido, al número de aristas incidentes en $v$. Veamos los vértices de la red ordenados según su grado y la representación de este."
   ]
  },
  {
   "cell_type": "code",
   "execution_count": null,
   "id": "cb852572",
   "metadata": {},
   "outputs": [],
   "source": [
    "d = students_graph.degree()\n",
    "d = pd.Series(dict(d)).sort_values(ascending=False)\n",
    "d.head()"
   ]
  },
  {
   "cell_type": "markdown",
   "id": "26db6980",
   "metadata": {},
   "source": [
    "Los nodos m41 y m15 son los que tienen mayor grado."
   ]
  },
  {
   "cell_type": "code",
   "execution_count": null,
   "id": "0adef592",
   "metadata": {},
   "outputs": [],
   "source": [
    "plt.stem(d)"
   ]
  },
  {
   "cell_type": "markdown",
   "id": "3de7f159",
   "metadata": {},
   "source": [
    "Al representar gráficamente los grados, vemos que hay 4 estudiantes claramente con mayor grado y 4 (los de la derecha del gráfico) con menor grado. Pero no sabemos aún si estos estudiantes de mayor grado son los más populares a los que la gente invita o sin embargo que invitarían a muchos estudiantes a su fiesta."
   ]
  },
  {
   "cell_type": "markdown",
   "id": "00fc6094",
   "metadata": {},
   "source": [
    "#### Grado IN\n",
    "\n",
    "Sea v un vértice de un grafo dirigido G:\n",
    "\n",
    "- Se denomina grado de entrada (indegree) de $v$, $de(v)$, al número de arcos cuyo extremo final es $v$.\n",
    "- Se denomina grado de salida (outdegree) de $v$, $ds(v)$, al número de arcos cuyo extremo inicial es $v$.\n",
    "\n",
    "Veamos ahora el número de aristas incidentes."
   ]
  },
  {
   "cell_type": "code",
   "execution_count": null,
   "id": "5c48bbcc",
   "metadata": {},
   "outputs": [],
   "source": [
    "d = students_graph.in_degree()\n",
    "d = pd.Series(dict(d)).sort_values(ascending=False)\n",
    "d.head()"
   ]
  },
  {
   "cell_type": "code",
   "execution_count": null,
   "id": "a97b77dc",
   "metadata": {},
   "outputs": [],
   "source": [
    "d = students_graph.in_degree()\n",
    "d = pd.Series(dict(d)).sort_values(ascending=True)\n",
    "d.head()"
   ]
  },
  {
   "cell_type": "markdown",
   "id": "cf0442e4",
   "metadata": {},
   "source": [
    "En este caso, los estudiantes con mayor grado de entrada serán los estudiantes más populares a los que la mayoría de alumnos quieren invitar a su fiesta. Vemos que hay claramente un estudiante muy popular, z16. El estudiante más impopular es m32, ya que ningún estudiante le invitaría a su fiesta."
   ]
  },
  {
   "cell_type": "code",
   "execution_count": null,
   "id": "efe0af26",
   "metadata": {},
   "outputs": [],
   "source": [
    "plt.stem(d)"
   ]
  },
  {
   "cell_type": "markdown",
   "id": "af21be62",
   "metadata": {},
   "source": [
    "En el gráfico se observa el estudiante más popular frente a 4 estudiantes muy poco populares, que solo serían invitados por dos personas a su fiesta de cumpleaños."
   ]
  },
  {
   "cell_type": "markdown",
   "id": "f6ba015d",
   "metadata": {},
   "source": [
    "#### Grado OUT\n",
    "\n",
    "Estudiemos las aristas de salida."
   ]
  },
  {
   "cell_type": "code",
   "execution_count": null,
   "id": "bcb50db9",
   "metadata": {},
   "outputs": [],
   "source": [
    "d = students_graph.out_degree()\n",
    "d = pd.Series(dict(d)).sort_values(ascending=False)\n",
    "d.head()"
   ]
  },
  {
   "cell_type": "markdown",
   "id": "3598857e",
   "metadata": {},
   "source": [
    "En este caso los estudiantes que más gente invitarían a su fiesta son los que tenían mayor grado en el primer caso, m41 y m15. Por tanto al desglosar el grado en grado de entrada y de salida queda demostrado que no son estos los estudiantes más populares sino los que invitarían a más personas."
   ]
  },
  {
   "cell_type": "code",
   "execution_count": null,
   "id": "c0f6f8e7",
   "metadata": {},
   "outputs": [],
   "source": [
    "plt.stem(d)"
   ]
  },
  {
   "cell_type": "markdown",
   "id": "b4338e8a",
   "metadata": {},
   "source": [
    "En el gráfico se puede ver que hay tres estudiantes que no invitarían a ningún compañero."
   ]
  },
  {
   "cell_type": "code",
   "execution_count": null,
   "id": "ed92cf77",
   "metadata": {},
   "outputs": [],
   "source": [
    "d = students_graph.out_degree()\n",
    "d = pd.Series(dict(d)).sort_values(ascending=True)\n",
    "d.head()"
   ]
  },
  {
   "cell_type": "markdown",
   "id": "7111079b",
   "metadata": {},
   "source": [
    "### Centralidad\n",
    "\n",
    "Otra métrica importante del análisis de redes es decidir qué vértices son más importantes que otros. La importancia de un vértice depende del tipo de grafo.\n",
    "\n",
    "Una de las nociones más simples de centralidad es identificar el centro del grafo. Este está formado por aquellos vértices cuya excentricidad es igual al radio del grafo. Todos los vértices del centro del grafo tienen centralidad máxima.\n",
    "\n",
    "#### Closeness Centrality\n",
    "\n",
    "Calculo de la suma promedio de las distancias más cortas desde un nodo hacia todos los demás."
   ]
  },
  {
   "cell_type": "code",
   "execution_count": null,
   "id": "f37385b1",
   "metadata": {},
   "outputs": [],
   "source": [
    "nx.algorithms.centrality.closeness_centrality(students_graph,\"m41\")"
   ]
  },
  {
   "cell_type": "code",
   "execution_count": null,
   "id": "0778c27c",
   "metadata": {},
   "outputs": [],
   "source": [
    "d = nx.algorithms.centrality.closeness_centrality(students_graph)\n",
    "d = pd.Series(dict(d)).sort_values(ascending=False)\n",
    "d.head(10)"
   ]
  },
  {
   "cell_type": "code",
   "execution_count": null,
   "id": "e0b9497d",
   "metadata": {},
   "outputs": [],
   "source": [
    "d = nx.algorithms.centrality.closeness_centrality(students_graph)\n",
    "d = pd.Series(dict(d)).sort_values(ascending=True)\n",
    "d.head(10)"
   ]
  },
  {
   "cell_type": "markdown",
   "id": "08970da2",
   "metadata": {},
   "source": [
    "Observamos que el alumno más popular es aquel que tiene un mayor valor de centralidad y el alumno más impopular el mínimo valor de centralidad."
   ]
  },
  {
   "cell_type": "code",
   "execution_count": null,
   "id": "630e63c9",
   "metadata": {},
   "outputs": [],
   "source": [
    "plt.stem(d)"
   ]
  },
  {
   "cell_type": "markdown",
   "id": "db4749c3",
   "metadata": {},
   "source": [
    "### Betweenness Centrality\n",
    "\n",
    "Medida que cuantifica la frecuencia o el número de veces que un nodo actúa como un puente a lo largo del camino más corto entre otros dos nodos. La idea intuitiva es que si se eligen dos nodos al azar, y luego también al azar uno de los eventuales posibles caminos más cortos entre ellos, entonces los nodos con mayor intermediación serán aquellos que aparezcan con mayor probabilidad dentro de este camino."
   ]
  },
  {
   "cell_type": "code",
   "execution_count": null,
   "id": "0ca19a4f",
   "metadata": {},
   "outputs": [],
   "source": [
    "students_graph_simple = students_graph.to_undirected()"
   ]
  },
  {
   "cell_type": "code",
   "execution_count": null,
   "id": "b102cf34",
   "metadata": {},
   "outputs": [],
   "source": [
    "d = nx.algorithms.centrality.betweenness.betweenness_centrality(students_graph_simple)\n",
    "d = pd.Series(dict(d)).sort_values(ascending=False)\n",
    "d.head()"
   ]
  },
  {
   "cell_type": "code",
   "execution_count": null,
   "id": "49241e9d",
   "metadata": {},
   "outputs": [],
   "source": [
    "d = nx.algorithms.centrality.betweenness.betweenness_centrality(students_graph_simple)\n",
    "d = pd.Series(dict(d)).sort_values(ascending=True)\n",
    "d.head()"
   ]
  },
  {
   "cell_type": "markdown",
   "id": "be5c9dc5",
   "metadata": {},
   "source": [
    "En este caso no es el estudiante más popular el que tiene mayor valor de intermediación. El estudiante m15 es aquel que se relaciona con mayor cantidad diferente de estudiantes"
   ]
  },
  {
   "cell_type": "code",
   "execution_count": null,
   "id": "ab7cb935",
   "metadata": {},
   "outputs": [],
   "source": [
    "plt.stem(d)"
   ]
  },
  {
   "cell_type": "markdown",
   "id": "8a9c7c4f",
   "metadata": {},
   "source": [
    "### Eigenvector Centrality\n",
    "\n",
    "Mide la influencia de un nodo en una red. Los nodos que poseen un valor alto de esta medida de centralidad están conectados a muchos nodos que a su vez están bien conectados, también en este sentido; por lo tanto, son buenos candidatos para difundir información."
   ]
  },
  {
   "cell_type": "code",
   "execution_count": null,
   "id": "8d7bd191",
   "metadata": {},
   "outputs": [],
   "source": [
    "from statistics import mean\n",
    "\n",
    "G = nx.Graph()\n",
    "for u,v,data in students_graph.edges(data=True):\n",
    "    if not G.has_edge(u,v):\n",
    "        # set weight to 1 if no weight is given for edge in M\n",
    "        weight = mean(d.get('weight',1) for d in students_graph.get_edge_data(u,v).values())\n",
    "        G.add_edge(u, v, weight=weight)\n",
    "        \n",
    "students_graph_simple = G.copy()"
   ]
  },
  {
   "cell_type": "code",
   "execution_count": null,
   "id": "9d034c64",
   "metadata": {},
   "outputs": [],
   "source": [
    "d = nx.eigenvector_centrality(students_graph_simple)\n",
    "d = pd.Series(dict(d)).sort_values(ascending=False)\n",
    "d.head()"
   ]
  },
  {
   "cell_type": "code",
   "execution_count": null,
   "id": "aa21a59a",
   "metadata": {},
   "outputs": [],
   "source": [
    "d = nx.eigenvector_centrality(students_graph_simple)\n",
    "d = pd.Series(dict(d)).sort_values(ascending=True)\n",
    "d.head()"
   ]
  },
  {
   "cell_type": "markdown",
   "id": "7e5ea44a",
   "metadata": {},
   "source": [
    "Ene ste caso vemos que el estudiante más popular vuelve a ser un nodo importante. Pero también lo es z19, nodo que tenía un alto grado de centralidad. Aquel con menor influencia es z27, nodo con un bajo valor de intermediación (si se elimina de la red no se cortan caminos entre nodos) y de centralidad, por lo que tiene sentido que no sea un buen candidato para difundir información"
   ]
  },
  {
   "cell_type": "code",
   "execution_count": null,
   "id": "c243c8ec",
   "metadata": {},
   "outputs": [],
   "source": [
    "plt.stem(d)"
   ]
  },
  {
   "cell_type": "code",
   "execution_count": null,
   "id": "024c3fb0",
   "metadata": {},
   "outputs": [],
   "source": []
  },
  {
   "cell_type": "code",
   "execution_count": null,
   "id": "ef492f89",
   "metadata": {},
   "outputs": [],
   "source": []
  },
  {
   "cell_type": "markdown",
   "id": "5c8894f2",
   "metadata": {},
   "source": [
    "### Influencia\n",
    "\n",
    "#### Page Rank\n",
    "\n",
    "PageRank de un nodo refleja la importancia del mismo en la red.\n",
    "\n",
    "Se interpreta un enlace de un nodo A a otro B como un voto, (de A a B). Además se analiza la puntuación del nodo origen, los votos emitidos por nodos \"importantes\", es decir con un PageRank elevado, valen más, y ayudan a hacer a otros \"importantes\".\n",
    "\n",
    "Se suele utilizar para la red Internet y con aristas direccionales, que hacen referencia a los hipervínculos."
   ]
  },
  {
   "cell_type": "code",
   "execution_count": null,
   "id": "73d59281",
   "metadata": {},
   "outputs": [],
   "source": [
    "d = nx.algorithms.pagerank(students_graph_simple.to_directed())"
   ]
  },
  {
   "cell_type": "code",
   "execution_count": null,
   "id": "915ca843",
   "metadata": {},
   "outputs": [],
   "source": [
    "d = pd.Series(dict(d)).sort_values(ascending=False)\n",
    "d.head()"
   ]
  },
  {
   "cell_type": "code",
   "execution_count": null,
   "id": "f8a9b7a8",
   "metadata": {},
   "outputs": [],
   "source": [
    "plt.stem(d)"
   ]
  },
  {
   "cell_type": "code",
   "execution_count": null,
   "id": "6f2b6355",
   "metadata": {},
   "outputs": [],
   "source": [
    "fig, ax = plt.subplots(1,1,figsize=(10,10))\n",
    "pos = nx.spring_layout(students_graph_simple.to_directed(),seed = np.random.seed(42))\n",
    "\n",
    "nx.draw(students_graph_simple.to_directed(),\n",
    "        pos=pos,\n",
    "        ax=ax,\n",
    "        with_labels=True, \n",
    "        alpha=1,\n",
    "        node_size=d*3E4)"
   ]
  },
  {
   "cell_type": "markdown",
   "id": "de45deb8",
   "metadata": {},
   "source": [
    "### Detección de comunidades\n",
    "\n",
    "Una red tiene estructura de comunidades si los nodos de pueden ser fácilmente agrupados en grupos que pueden estar superpuestos. Si se buscan comunidades no superpuestas, la red se divide de forma natural en grupos densamente conectados internamente y con pocas conexiones entre grupos.\n",
    "\n",
    "Documentación: https://networkx.github.io/documentation/stable/reference/algorithms/community.html#module-networkx.algorithms.community"
   ]
  },
  {
   "cell_type": "code",
   "execution_count": null,
   "id": "bf8f7293",
   "metadata": {},
   "outputs": [],
   "source": [
    "plt.rcParams[\"figure.figsize\"] = (7,7)"
   ]
  },
  {
   "cell_type": "code",
   "execution_count": null,
   "id": "2684f51b",
   "metadata": {},
   "outputs": [],
   "source": [
    "G = nx.karate_club_graph()\n",
    "pos = nx.spring_layout(G)"
   ]
  },
  {
   "cell_type": "code",
   "execution_count": null,
   "id": "65ac4b73",
   "metadata": {},
   "outputs": [],
   "source": [
    "nx.draw(G, pos=pos, with_labels=True)\n",
    "plt.show()"
   ]
  },
  {
   "cell_type": "code",
   "execution_count": null,
   "id": "53f0de62",
   "metadata": {},
   "outputs": [],
   "source": [
    "communities = nx.community.girvan_newman(G)"
   ]
  },
  {
   "cell_type": "code",
   "execution_count": null,
   "id": "516ee610",
   "metadata": {},
   "outputs": [],
   "source": [
    "community = next(communities)\n",
    "community"
   ]
  },
  {
   "cell_type": "code",
   "execution_count": null,
   "id": "0b7b2052",
   "metadata": {},
   "outputs": [],
   "source": [
    "node_color = dict()\n",
    "\n",
    "for node in community[0]:\n",
    "    node_color[node] = 'r'\n",
    "\n",
    "for node in community[1]:\n",
    "    node_color[node] = 'b'\n",
    "\n",
    "node_color = [node_color[node] for node in sorted(node_color)]"
   ]
  },
  {
   "cell_type": "code",
   "execution_count": null,
   "id": "3c1f0f88",
   "metadata": {},
   "outputs": [],
   "source": [
    "nx.draw(G, pos=pos, node_color=node_color, with_labels=True)\n",
    "plt.show()"
   ]
  },
  {
   "cell_type": "code",
   "execution_count": null,
   "id": "b1b8e5cb",
   "metadata": {},
   "outputs": [],
   "source": [
    "next(communities)\n",
    "community = next(communities)\n",
    "community"
   ]
  },
  {
   "cell_type": "code",
   "execution_count": null,
   "id": "ca7cf213",
   "metadata": {},
   "outputs": [],
   "source": [
    "node_color = dict()\n",
    "\n",
    "for node in community[0]:\n",
    "    node_color[node] = 'r'\n",
    "\n",
    "for node in community[1]:\n",
    "    node_color[node] = 'b'\n",
    "\n",
    "for node in community[2]:\n",
    "    node_color[node] = 'g'\n",
    "\n",
    "for node in community[3]:\n",
    "    node_color[node] = 'c'\n",
    "\n",
    "\n",
    "node_color = [node_color[node] for node in sorted(node_color)]"
   ]
  },
  {
   "cell_type": "code",
   "execution_count": null,
   "id": "b7e97094",
   "metadata": {},
   "outputs": [],
   "source": [
    "nx.draw(G, pos=pos, node_color=node_color, with_labels=True)\n",
    "plt.show()"
   ]
  },
  {
   "cell_type": "code",
   "execution_count": null,
   "id": "58e42a17",
   "metadata": {},
   "outputs": [],
   "source": []
  },
  {
   "cell_type": "markdown",
   "id": "cf88e30a",
   "metadata": {},
   "source": [
    "## Dibujo de grafos\n",
    "\n",
    "NetworkX proporciona una funcionalidad básica para la visualización de grafos, pero hay que tener muy presente que el objetivo principal de la librería es permitir el análisis de gráficos en lugar de realizar la visualización de grafos.\n",
    "\n",
    "Los dibujos de grafos de esta librería se construyen con diversas librerías abiertamente democratizadas para visualización de python, principalmente `matplotlib`.\n",
    "\n",
    "Para el dibujo más simple empleamos la función `draw`. Cada vez que se ejecuta esta función, el dibujo resultante cambia de posición (el significado sigue siendo el mismo).\n",
    "\n",
    "De nuestro grafo no dirigido:"
   ]
  },
  {
   "cell_type": "code",
   "execution_count": null,
   "id": "a22ec028",
   "metadata": {},
   "outputs": [],
   "source": [
    "nx.draw(G)"
   ]
  },
  {
   "cell_type": "markdown",
   "id": "ceb6a303",
   "metadata": {},
   "source": [
    "De nuestro grafo dirigido:"
   ]
  },
  {
   "cell_type": "code",
   "execution_count": null,
   "id": "be5a34d1",
   "metadata": {},
   "outputs": [],
   "source": [
    "nx.draw(D)"
   ]
  },
  {
   "cell_type": "markdown",
   "id": "de1a3794",
   "metadata": {},
   "source": [
    "## Otras acciones que podemos realizar contra nodos\n",
    "\n",
    "Se pueden ejecutar las siguientes acciones contra los nodos de nuestros grafos:\n",
    "\n",
    "1. Etiquetarlos por su nombre\n",
    "2. Aplicarles una capa de color\n",
    "3. Cambiarles el estilo de las aristas\n",
    "4. Se puede pasar a un objeto `ax` de matplotlib sobre el que dibujar. Esta acción nos habilita la posibilidad de poder emplear las bodades de *matplotlib* para gestionar tamaños, posiciones, títulos, leyendas, etc.\n",
    "\n",
    "Para etiquetar las aristas empleamos `draw_networkx_edge_labels`."
   ]
  },
  {
   "cell_type": "code",
   "execution_count": null,
   "id": "0f4e5b71",
   "metadata": {},
   "outputs": [],
   "source": [
    "# Generamos 3 figuras\n",
    "fig, axes = plt.subplots(1,3)\n",
    "\n",
    "# Gestionamos el tamaño de las figuras\n",
    "fig.set_size_inches(9,3)\n",
    "\n",
    "# Primer grafo\n",
    "nx.draw(G, ax=axes[0], with_labels=True, node_color='blue', node_size=500)\n",
    "axes[0].set_title(\"Gráfica G\")\n",
    "\n",
    "# Segundo grafo\n",
    "layout = nx.spring_layout(W)\n",
    "labels2 = nx.get_edge_attributes(W,'weight')\n",
    "nx.draw(W, layout, ax=axes[1], with_labels=True, node_color='yellow', node_size=500)\n",
    "nx.draw_networkx_edge_labels(W, layout, ax=axes[1], edge_labels=labels2)\n",
    "axes[1].set_title(\"Gráfica ponderada W\")\n",
    "\n",
    "# Tercer grafo\n",
    "nx.draw(D, ax=axes[2], with_labels=True, node_color='red', node_size=500)\n",
    "axes[2].set_title(\"Gráfica dirigida D\")\n",
    "\n",
    "plt.show()"
   ]
  },
  {
   "cell_type": "code",
   "execution_count": null,
   "id": "aae63acd",
   "metadata": {},
   "outputs": [],
   "source": []
  },
  {
   "cell_type": "markdown",
   "id": "d0606d2d",
   "metadata": {},
   "source": [
    "## Ejemplo con grid cuadrado\n",
    "\n",
    "Se procede a definir un grafo dirigido en cuadrícula $n x n$. \n",
    "\n",
    "En primer lugar definimos una función que nos produce una estructura de grafos en cuadrícula $n x n$. Nos apoyamos en un bucle for para poder ejecutar esta acción de forma ordenada."
   ]
  },
  {
   "cell_type": "code",
   "execution_count": null,
   "id": "8259e83c",
   "metadata": {},
   "outputs": [],
   "source": [
    "def generacion_cuadricula(n_nodos_lateral):\n",
    "    G = nx.DiGraph()\n",
    "    for i in range(n_nodos_lateral):\n",
    "        for j in range(n_nodos_lateral - 1):\n",
    "            G.add_edge((i,j),(i,j+1))\n",
    "            G.add_edge((j,i),(j+1,i))\n",
    "    return(G)"
   ]
  },
  {
   "cell_type": "markdown",
   "id": "99ce6ef1",
   "metadata": {},
   "source": [
    "En este caso empleamos la función `add_edge`. Podemos leer documentación de ella: https://networkx.org/documentation/stable/reference/classes/generated/networkx.Graph.add_edge.html\n",
    "\n",
    "Generemos un grid 5 x 5.\n",
    "\n",
    "Si lo dibujamos con la función draw de *NetworkX* no refleja ningún orden aparente. Asimismo, como contrastamos anteriormente, si reejecutamos el dibujo del grafo, este cambia por completo. En algunos casos se puede intur la dimensión y en otros, será muy dificil, ya que nos enfrentamos a una amalgama de nodos y direcciones sin aparente orden visual."
   ]
  },
  {
   "cell_type": "code",
   "execution_count": null,
   "id": "f3da305f",
   "metadata": {},
   "outputs": [],
   "source": [
    "cuadricula = generacion_cuadricula(5)\n",
    "nx.draw(cuadricula)"
   ]
  },
  {
   "cell_type": "markdown",
   "id": "ccda38c4",
   "metadata": {},
   "source": [
    "Para dotar de cierto orden al grafo, empleamos *matplotlib*."
   ]
  },
  {
   "cell_type": "code",
   "execution_count": null,
   "id": "e1391526",
   "metadata": {},
   "outputs": [],
   "source": [
    "fig, ax = plt.subplots()\n",
    "\n",
    "fig.set_size_inches(8,8)\n",
    "\n",
    "cuadricula = generacion_cuadricula(5)\n",
    "nx.draw(cuadricula, ax=ax, node_color='pink', pos={x:x for x in cuadricula.nodes})\n",
    "nx.draw_networkx_labels(cuadricula, ax=ax, pos={x:(x[0]+0.2,x[1]+0.2) for x in cuadricula.nodes})\n",
    "ax.set_title(\"Gráfica cuadrícula dirigida con parámetro 5\")\n",
    "plt.show()"
   ]
  },
  {
   "cell_type": "code",
   "execution_count": null,
   "id": "6348da68",
   "metadata": {},
   "outputs": [],
   "source": []
  },
  {
   "attachments": {
    "Dijkstra_Animation.gif": {
     "image/gif": "[encoded data removed]"
    }
   },
   "cell_type": "markdown",
   "id": "933a895c",
   "metadata": {},
   "source": [
    "## Caminos de peso mínimo: algoritmo de Dijkstra\n",
    "\n",
    "Otro problema de teoría de gráficas que se vuelve mucho más versatil en las aplicaciones en su versión ponderada es el de encontrar caminos cortos entre dos vértices. \n",
    "\n",
    "En una gráfica sin pesos lo que nos interesa para conectar dos vértices óptimamente es simplemente que se minimice su número de aristas. En las gráficas con aristas ponderadas lo que nos interesará es encontrar un camino cuyo peso total sea mínimo.\n",
    "\n",
    "Problema. Dada una gráfica ponderada $G$ y dos vértices $u$ y $v$, encontrar la distancia ponderada de $u$ a $v$.\n",
    "\n",
    "Problema. Dada una gráfica ponderada $G$ y dos vértices $u$ y $v$, encontrar un camino de menor peso de $u$ a $v$.\n",
    "\n",
    "Problema. Dada una gráfica ponderada $G$ y dos vértices $u$ y $v$, encontrar todas las distancias ponderadas entre cada par de vértices.\n",
    "\n",
    "\n",
    "### Dijkstra\n",
    "\n",
    "El algoritmo de Dijkstra, también llamado algoritmo de caminos mínimos, es un algoritmo para la **determinación del camino más corto, dado un vértice origen, hacia el resto de los vértices en un grafo que tiene pesos en cada arista**.\n",
    "\n",
    "La idea subyacente en este algoritmo consiste en ir explorando todos los caminos más cortos que parten del vértice origen y que llevan a todos los demás vértices; cuando se obtiene el camino más corto desde el vértice origen hasta el resto de los vértices que componen el grafo, el algoritmo se detiene. \n",
    "\n",
    "Se trata de una especialización de la búsqueda de costo uniforme y, como tal, no funciona en grafos con aristas de coste negativo (al elegir siempre el nodo con distancia menor, pueden quedar excluidos de la búsqueda nodos que en próximas iteraciones bajarían el costo general del camino al pasar por una arista con costo negativo).\n",
    "\n",
    "Pasos básicos:\n",
    "\n",
    "1. Comenzamos estableciendo una distancia inicial infinita para todos los nodos, excepto para el nodo de inicio, al cual le asignamos una distancia de 0.\n",
    "\n",
    "2. Luego, seleccionamos el nodo de menor distancia que no haya sido visitado aún. Comenzamos con el nodo de inicio en la primera iteración.\n",
    "\n",
    "3. A partir del nodo seleccionado, examinamos todas sus aristas y actualizamos las distancias de los nodos adyacentes si encontramos un camino más corto. Esto significa que si la distancia actual del nodo seleccionado más el peso de la arista es menor que la distancia almacenada para el nodo adyacente, actualizamos la distancia.\n",
    "\n",
    "4. Repetimos el paso 3 para todos los nodos no visitados, seleccionando siempre el nodo con la distancia más baja hasta el momento.\n",
    "\n",
    "5. Continuamos repitiendo los pasos 3 y 4 hasta que hayamos visitado todos los nodos o hasta que no queden nodos alcanzables desde el nodo de inicio.\n",
    "\n",
    "6. Al finalizar, tendremos la distancia más corta desde el nodo de inicio a todos los demás nodos en el grafo.\n",
    "\n",
    "![Dijkstra_Animation.gif](attachment:Dijkstra_Animation.gif)\n",
    "\n",
    "Empecemos a elaborar el algoritmo."
   ]
  },
  {
   "cell_type": "code",
   "execution_count": null,
   "id": "c969cd5f",
   "metadata": {},
   "outputs": [],
   "source": [
    "def dijkstra(G, u, v):\n",
    "    masinf = float('inf')\n",
    "    vertices = list(G.nodes)\n",
    "    distancias = {w:masinf for w in vertices}\n",
    "    fijos = {w:False for w in vertices}\n",
    "    padres = {w:None for w in vertices}\n",
    "    distancias[u] = 0\n",
    "    fijos[u] = True\n",
    "    nuevo_fijo = u\n",
    "\n",
    "    while not(all(fijos.values())):\n",
    "        \n",
    "        # Acualizar distancias.\n",
    "        for w in G.neighbors(nuevo_fijo):\n",
    "            if fijos[w] == False:\n",
    "                nueva_dist = distancias[nuevo_fijo] + G[nuevo_fijo][w]['weight']\n",
    "                if distancias[w] > nueva_dist:\n",
    "                    distancias[w] = nueva_dist\n",
    "                    padres[w] = nuevo_fijo\n",
    "\n",
    "        # Encontrar el nuevo a fijar.\n",
    "        mas_chica = masinf\n",
    "        for w in vertices:\n",
    "            if fijos[w] == False and distancias[w] < mas_chica:\n",
    "                optimo = w\n",
    "                mas_chica = distancias[w]\n",
    "        nuevo_fijo = optimo\n",
    "        fijos[nuevo_fijo] = True\n",
    "\n",
    "        # Cuando fije el vértice final v, dar el camino.\n",
    "        if nuevo_fijo == v:\n",
    "            camino = [v]\n",
    "            while camino[0] != u:\n",
    "                camino = [padres[camino[0]]] + camino\n",
    "            return distancias[v], camino"
   ]
  },
  {
   "cell_type": "markdown",
   "id": "1735eab7",
   "metadata": {},
   "source": [
    "Generamos un grafo de sparring."
   ]
  },
  {
   "cell_type": "code",
   "execution_count": null,
   "id": "cd65bbea",
   "metadata": {},
   "outputs": [],
   "source": [
    "G = nx.Graph()\n",
    "\n",
    "G.add_weighted_edges_from([\n",
    "    (1, 7, 85), (7, 16, 61), (12, 18, 68), (10, 11, 34),\n",
    "    (14, 10, 65), (6, 5, 99), (15, 13, 64), (1, 11, 60),\n",
    "    (18, 12, 85), (11, 12, 93), (1, 2, 79), (1, 4, 92),\n",
    "    (17, 13, 89), (8, 6, 40), (15, 2, 99), (1, 3, 75),\n",
    "    (15, 14, 69), (6, 17, 79), (9, 5, 59),\n",
    "    (1, 12, 82), (7, 10, 89), (5, 3, 73), (15, 12, 80),\n",
    "    (17, 1, 85), (5, 13, 87), (3, 4, 86), (4, 7, 90)\n",
    "    ])\n",
    "\n",
    "nx.draw(G)"
   ]
  },
  {
   "attachments": {
    "formula_para_k-k.png": {
     "image/png": "[encoded data removed]"
    }
   },
   "cell_type": "markdown",
   "id": "3c00e012",
   "metadata": {},
   "source": [
    "Tal y como se visualiza el grafo, se aprecia desordenado y tedioso.\n",
    "\n",
    "Para **mejorar la visualización**, empleamos el algoritmo de **Kamada-Kawai**. La función `kamada_kawai_layout` de NetworkX posiciona los nodos usando la función de coste de Kamada-Kaway.\n",
    "\n",
    "En su artículo, Kamada y Kawai proponen que, en algunos casos, la reducción del número de cruces de enlaces que posee una grafo no es un buen criterio estético para implementar un algoritmo de diseño de redes. Mediante su aproximación y minimizar la tensión ($stress$) en la ecuación, el método de Kamada-Kawai *conserva el equilibrio total de un grafo, y produce diseños con pequeñas cantidades de los cruces de enlace*.\n",
    "\n",
    "![formula_para_k-k.png](attachment:formula_para_k-k.png)"
   ]
  },
  {
   "cell_type": "code",
   "execution_count": null,
   "id": "97155c75",
   "metadata": {},
   "outputs": [],
   "source": [
    "KKL = nx.kamada_kawai_layout(G)\n",
    "KKL"
   ]
  },
  {
   "cell_type": "markdown",
   "id": "4eaf0a2f",
   "metadata": {},
   "source": [
    "Ahora tenemos una ubicación fija para cada uno de los nodos que optimiza su visualización."
   ]
  },
  {
   "cell_type": "code",
   "execution_count": null,
   "id": "aeb6f4e3",
   "metadata": {},
   "outputs": [],
   "source": [
    "labels = nx.get_edge_attributes(G,'weight')\n",
    "\n",
    "fig, ax = plt.subplots(1)\n",
    "fig.set_size_inches(10,10)\n",
    "nx.draw_kamada_kawai(G, ax=ax, with_labels=True, node_color='pink', node_size=500)\n",
    "nx.draw_networkx_edge_labels(G, KKL, ax=ax, edge_labels=labels)\n",
    "\n",
    "D = dijkstra(G,7,17)\n",
    "plt.show()\n",
    "print(\"El camino más corto del vértice 7 al 17 es {} y pesa {}\".format(D[1],D[0]))"
   ]
  },
  {
   "cell_type": "code",
   "execution_count": null,
   "id": "d4466262",
   "metadata": {},
   "outputs": [],
   "source": []
  },
  {
   "cell_type": "code",
   "execution_count": null,
   "id": "517fbde3",
   "metadata": {},
   "outputs": [],
   "source": []
  },
  {
   "cell_type": "code",
   "execution_count": null,
   "id": "8ecb3543",
   "metadata": {},
   "outputs": [],
   "source": []
  },
  {
   "cell_type": "code",
   "execution_count": null,
   "id": "862b83a2",
   "metadata": {},
   "outputs": [],
   "source": []
  },
  {
   "cell_type": "code",
   "execution_count": null,
   "id": "33e67b8f",
   "metadata": {},
   "outputs": [],
   "source": []
  },
  {
   "cell_type": "code",
   "execution_count": null,
   "id": "a4c5c5c3",
   "metadata": {},
   "outputs": [],
   "source": []
  }
 ],
 "metadata": {
  "kernelspec": {
   "display_name": "Python 3",
   "language": "python",
   "name": "python3"
  },
  "language_info": {
   "codemirror_mode": {
    "name": "ipython",
    "version": 3
   },
   "file_extension": ".py",
   "mimetype": "text/x-python",
   "name": "python",
   "nbconvert_exporter": "python",
   "pygments_lexer": "ipython3",
   "version": "3.8.8"
  }
 },
 "nbformat": 4,
 "nbformat_minor": 5
}
